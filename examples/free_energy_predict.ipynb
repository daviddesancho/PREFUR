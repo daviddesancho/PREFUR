{
 "cells": [
  {
   "cell_type": "code",
   "execution_count": 1,
   "metadata": {},
   "outputs": [],
   "source": [
    "import numpy as np\n",
    "import matplotlib.pyplot as plt\n",
    "%matplotlib inline\n",
    "import seaborn as sns\n",
    "sns.set(style=\"ticks\", color_codes=True, font_scale=1.5)\n",
    "sns.set_style({\"xtick.direction\": \"in\", \"ytick.direction\": \"in\"})\n",
    "%matplotlib inline\n",
    "import pandas as pd"
   ]
  },
  {
   "cell_type": "markdown",
   "metadata": {},
   "source": [
    "## Kinetics in the FES model\n",
    "We use the denaturant dependent thermodynamics to estimate kinetics at different final denaturant concentrations."
   ]
  },
  {
   "cell_type": "code",
   "execution_count": 2,
   "metadata": {},
   "outputs": [],
   "source": [
    "R = 8.314e-3 # kJ/mol/K"
   ]
  },
  {
   "cell_type": "code",
   "execution_count": 3,
   "metadata": {
    "scrolled": false
   },
   "outputs": [],
   "source": [
    "from prefur import kinetics\n",
    "DataBase = pd.read_excel('../prefur/data/newdatabase298Cm.xls')\n",
    "kf1st = DataBase.kfexp*np.exp(-(DataBase.mfexp/(R*DataBase.Temp)*DataBase.D1st))\n",
    "ku1st = DataBase.kuexp*np.exp((DataBase.muexp/(R*DataBase.Temp)*DataBase.D1st))"
   ]
  },
  {
   "cell_type": "code",
   "execution_count": null,
   "metadata": {},
   "outputs": [],
   "source": [
    "def ind_to_char(s):\n",
    "    if s == 1:\n",
    "        return \"a\"\n",
    "    if s == 2:\n",
    "        return \"b\"\n",
    "    elif s == 3:\n",
    "        return \"ab\"\n",
    "nres = DataBase.SizePDB\n",
    "struct = DataBase.Structure\n",
    "kfold  = []\n",
    "kunfold  = []\n",
    "for n, s in zip(nres, struct):\n",
    "    c = ind_to_char(s)\n",
    "    kf, ku, FES = kinetics.predict(nres=n, struct=c)\n",
    "    kfold.append(kf)\n",
    "    kunfold.append(ku)"
   ]
  },
  {
   "cell_type": "code",
   "execution_count": null,
   "metadata": {},
   "outputs": [],
   "source": [
    "fig, ax = plt.subplots()\n",
    "#ax.loglog(kf1st, kfold, 'o')\n",
    "colors = [None, 'red', 'blue', 'green']\n",
    "for i in range(1,4):\n",
    "    sel = [x for x in range(len(DataBase.Structure)) \\\n",
    "           if DataBase.Structure[x]==i]\n",
    "    ax.scatter(np.array(kf1st)[sel], np.array(kfold)[sel], \\\n",
    "               marker='o', s=100, facecolor=colors[i], lw=1)\n",
    "\n",
    "ax.plot([1e-2,1e5],[1e-2,1e5], 'k', lw=0.5, ls='--')\n",
    "\n",
    "z = np.polyfit(np.log10(kf1st), np.log10(kfold), 1)\n",
    "p = np.poly1d(z)\n",
    "x = np.array([-6.,5.])\n",
    "ax.plot(10**x,10**p(x),\"k-\", lw=1)\n",
    "\n",
    "ax.set_xscale('log')\n",
    "ax.set_yscale('log')\n",
    "ax.set_xlabel(r'$k_\\mathrm{f,exp}$ (s$^{-1}$) ')\n",
    "ax.set_ylabel(r'$k_\\mathrm{f,calc}$ (s$^{-1}$) ')\n",
    "ax.set_xlim(1e-1,1e5)\n",
    "ax.set_ylim(1e-2,1e5)\n",
    "plt.tight_layout()\n",
    "print (\"R(kf) = %6.4f\"%np.corrcoef(np.log10(kf1st), np.log10(kfold))[0][1])\n"
   ]
  },
  {
   "cell_type": "code",
   "execution_count": null,
   "metadata": {},
   "outputs": [],
   "source": [
    "fig, ax = plt.subplots()\n",
    "#ax.loglog(ku1st, kunfold, 'o')\n",
    "colors = [None, 'red', 'blue', 'green']\n",
    "for i in range(1,4):\n",
    "    sel = [x for x in range(len(DataBase.Structure)) if DataBase.Structure[x]==i]\n",
    "    ax.scatter(np.array(ku1st)[sel], np.array(kunfold)[sel], \\\n",
    "               marker='o', s=100, facecolor=colors[i], lw=1)\n",
    "\n",
    "z = np.polyfit(np.log10(ku1st), np.log10(kunfold), 1)\n",
    "p = np.poly1d(z)\n",
    "x = np.array([-6.,5.])\n",
    "ax.plot(10**x,10**p(x),\"k-\", lw=1)\n",
    "\n",
    "ax.set_xscale('log')\n",
    "ax.set_yscale('log')\n",
    "ax.set_xlabel(r'$k_\\mathrm{exp}$ (s$^{-1}$) ')\n",
    "ax.set_ylabel(r'$k_\\mathrm{calc}$ (s$^{-1}$) ')\n",
    "plt.tight_layout()\n",
    "ax.plot([1e-6,1e5],[1e-6,1e5], 'k', lw=0.5, ls='--')\n",
    "ax.set_xlim(1e-5,1e4)\n",
    "ax.set_ylim(1e-8,1e4)\n",
    "print (\"R(ku) = %6.4f\"%np.corrcoef(np.log10(ku1st), np.log10(kunfold))[0][1])"
   ]
  },
  {
   "cell_type": "code",
   "execution_count": null,
   "metadata": {},
   "outputs": [],
   "source": [
    "fig, ax = plt.subplots(1,2, figsize=(10,5))\n",
    "#ax.loglog(kf1st, kfold, 'o')\n",
    "colors = [None, 'red', 'blue', 'green']\n",
    "for i in range(1,4):\n",
    "    sel = [x for x in range(len(DataBase.Structure)) \\\n",
    "           if DataBase.Structure[x]==i]\n",
    "    ax[0].scatter(np.array(kf1st)[sel], np.array(kfold)[sel], \\\n",
    "               marker='o', s=100, facecolor=colors[i], lw=1)\n",
    "\n",
    "ax[0].plot([1e-2,1e5],[1e-2,1e5], 'k', lw=0.5, ls='--')\n",
    "\n",
    "z = np.polyfit(np.log10(kf1st), np.log10(kfold), 1)\n",
    "p = np.poly1d(z)\n",
    "x = np.array([-6.,5.])\n",
    "ax[0].plot(10**x,10**p(x),\"k-\", lw=1)\n",
    "\n",
    "ax[0].set_xscale('log')\n",
    "ax[0].set_yscale('log')\n",
    "ax[0].set_xlabel(r'$k_\\mathrm{f,exp}$ (s$^{-1}$) ')\n",
    "ax[0].set_ylabel(r'$k_\\mathrm{f,calc}$ (s$^{-1}$) ')\n",
    "ax[0].set_xlim(1e-2,1e5)\n",
    "ax[0].set_ylim(1e-2,1e5)\n",
    "print (\"R(kf) = %6.4f\"%np.corrcoef(np.log10(kf1st), np.log10(kfold))[0][1])\n",
    "\n",
    "#ax.loglog(ku1st, kunfold, 'o')\n",
    "colors = [None, 'red', 'blue', 'green']\n",
    "for i in range(1,4):\n",
    "    sel = [x for x in range(len(DataBase.Structure)) if DataBase.Structure[x]==i]\n",
    "    ax[1].scatter(np.array(ku1st)[sel], np.array(kunfold)[sel], \\\n",
    "               marker='o', s=100, facecolor=colors[i], lw=1)\n",
    "\n",
    "z = np.polyfit(np.log10(ku1st), np.log10(kunfold), 1)\n",
    "p = np.poly1d(z)\n",
    "x = np.array([-6.,5.])\n",
    "ax[1].plot(10**x,10**p(x),\"k-\", lw=1)\n",
    "\n",
    "ax[1].set_xscale('log')\n",
    "ax[1].set_yscale('log')\n",
    "ax[1].set_xlabel(r'$k_\\mathrm{u,exp}$ (s$^{-1}$) ')\n",
    "ax[1].set_ylabel(r'$k_\\mathrm{u,calc}$ (s$^{-1}$) ')\n",
    "\n",
    "ax[1].plot([1e-6,1e5],[1e-6,1e5], 'k', lw=0.5, ls='--')\n",
    "ax[1].set_xlim(1e-5,1e4)\n",
    "ax[1].set_ylim(1e-7,1e4)\n",
    "ax[0].annotate(\"A\", xy=(-0.2, 0.95), fontsize=24, xycoords=ax[0].get_window_extent)\n",
    "ax[1].annotate(\"B\", xy=(-0.2, 0.95), fontsize=24, xycoords=ax[1].get_window_extent)\n",
    "\n",
    "plt.tight_layout()\n",
    "#fig.savefig(\"predictions.png\", dpi=300)\n",
    "\n",
    "print (\"R(ku) = %6.4f\"%np.corrcoef(np.log10(ku1st), np.log10(kunfold))[0][1])"
   ]
  },
  {
   "cell_type": "code",
   "execution_count": null,
   "metadata": {},
   "outputs": [],
   "source": []
  }
 ],
 "metadata": {
  "anaconda-cloud": {},
  "kernelspec": {
   "display_name": "Python 3",
   "language": "python",
   "name": "python3"
  },
  "language_info": {
   "codemirror_mode": {
    "name": "ipython",
    "version": 3
   },
   "file_extension": ".py",
   "mimetype": "text/x-python",
   "name": "python",
   "nbconvert_exporter": "python",
   "pygments_lexer": "ipython3",
   "version": "3.7.3"
  }
 },
 "nbformat": 4,
 "nbformat_minor": 1
}
