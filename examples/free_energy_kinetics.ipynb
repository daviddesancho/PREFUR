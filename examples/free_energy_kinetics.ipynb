{
 "cells": [
  {
   "cell_type": "code",
   "execution_count": null,
   "metadata": {},
   "outputs": [],
   "source": [
    "import numpy as np\n",
    "import matplotlib.pyplot as plt\n",
    "%matplotlib inline\n",
    "import seaborn as sns\n",
    "sns.set(style=\"ticks\", color_codes=True, font_scale=1.5)\n",
    "sns.set_style({\"xtick.direction\": \"in\", \"ytick.direction\": \"in\"})\n",
    "%matplotlib inline"
   ]
  },
  {
   "cell_type": "markdown",
   "metadata": {},
   "source": [
    "## Kinetics in the FES model\n",
    "We use the denaturant dependent thermodynamics to estimate kinetics at different final denaturant concentrations."
   ]
  },
  {
   "cell_type": "code",
   "execution_count": null,
   "metadata": {},
   "outputs": [],
   "source": [
    "from prefur import thermo\n",
    "from prefur import kinetics\n",
    "FES = thermo.FES(65)\n",
    "\n",
    "beta = 1/(8.314e-3 * 300)\n",
    "denat = range(0,30,1)\n",
    "pf = []\n",
    "pu = []\n",
    "bf = []\n",
    "bu = []\n",
    "kf = []\n",
    "ku = []\n",
    "DGeqD = []\n",
    "fig, ax = plt.subplots(1,2, figsize=(8,3.5))\n",
    "for i in denat:\n",
    "    FES.denature(i)\n",
    "    a,b,c = thermo.stability(FES.nat, FES.DGdenat)\n",
    "    ax[0].plot(FES.nat, FES.DGdenat, color=plt.cm.RdYlBu_r(i/20.))\n",
    "    pf.append(a)\n",
    "    pu.append(b)\n",
    "    a, b = thermo.barrier(FES.DGdenat)\n",
    "    bf.append(a)\n",
    "    bu.append(b)\n",
    "    kf.append(kinetics.rates(barrier=bf[-1], nres=65))\n",
    "    ku.append(kinetics.rates(barrier=bu[-1], nres=65))\n",
    "    \n",
    "ax[1].semilogy([x for x in denat], kf, alpha=0.5)\n",
    "ax[1].semilogy([x for x in denat], ku, alpha=0.5)\n",
    "ax[1].semilogy([x for x in denat], [x+y for x,y in zip(kf,ku)])\n",
    "ax[1].set_xlim(0,25)\n",
    "ax[1].set_ylim(3e-1,5e1)\n",
    "ax[0].set_ylabel('$\\Delta G(F_D, n)$', fontsize=18)\n",
    "ax[0].set_xlabel('$n$', fontsize=18)\n",
    "ax[1].set_ylabel('$k$ (s$^{-1})$', fontsize=18)\n",
    "ax[1].set_xlabel('$F_D$ (kJ/mol)', fontsize=18)\n",
    "plt.tight_layout()\n"
   ]
  },
  {
   "cell_type": "code",
   "execution_count": null,
   "metadata": {},
   "outputs": [],
   "source": [
    "fig, ax = plt.subplots()\n",
    "ax.semilogy([x for x in denat], kf, lw=3, alpha=0.5)\n",
    "ax.semilogy([x for x in denat], ku, lw=3, alpha=0.5)\n",
    "ax.semilogy([x for x in denat], [x+y for x,y in zip(kf,ku)], lw=3)\n",
    "ax.set_xlim(0,25)\n",
    "ax.set_ylim(5e-1,3.5e1)\n",
    "ax.set_ylabel('$k$ (s$^{-1})$', fontsize=18)\n",
    "ax.set_xlabel('$F_D$ (kJ/mol)', fontsize=18)\n",
    "plt.tight_layout()\n",
    "#fig.savefig(\"chevron.png\", dpi=300)"
   ]
  },
  {
   "cell_type": "code",
   "execution_count": null,
   "metadata": {},
   "outputs": [],
   "source": []
  }
 ],
 "metadata": {
  "anaconda-cloud": {},
  "kernelspec": {
   "display_name": "Python 3",
   "language": "python",
   "name": "python3"
  },
  "language_info": {
   "codemirror_mode": {
    "name": "ipython",
    "version": 3
   },
   "file_extension": ".py",
   "mimetype": "text/x-python",
   "name": "python",
   "nbconvert_exporter": "python",
   "pygments_lexer": "ipython3",
   "version": "3.7.3"
  }
 },
 "nbformat": 4,
 "nbformat_minor": 1
}
