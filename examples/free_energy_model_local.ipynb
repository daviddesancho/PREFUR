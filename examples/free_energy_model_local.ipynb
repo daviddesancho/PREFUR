{
 "cells": [
  {
   "cell_type": "code",
   "execution_count": 1,
   "metadata": {},
   "outputs": [],
   "source": [
    "import numpy as np\n",
    "import matplotlib.pyplot as plt\n",
    "%matplotlib inline\n",
    "import seaborn as sns\n",
    "sns.set(style=\"ticks\", color_codes=True, font_scale=1.4)\n",
    "sns.set_style({\"xtick.direction\": \"in\", \"ytick.direction\": \"in\"})\n",
    "%matplotlib inline"
   ]
  },
  {
   "cell_type": "markdown",
   "metadata": {},
   "source": [
    "## Splitting stabilization energy\n",
    "We start by importing the ```thermo``` module from the ```prefur``` package."
   ]
  },
  {
   "cell_type": "code",
   "execution_count": 2,
   "metadata": {},
   "outputs": [],
   "source": [
    "from prefur import thermo"
   ]
  },
  {
   "cell_type": "markdown",
   "metadata": {},
   "source": [
    "Using the option ```enthalpy_global``` we can introduce different amounts of local and non-local stabilization energy in the total enthalpy of the protein. This allows for the exploration of different folding regimes (\"downhill\", two-state and high barrier) that determine the global kinetics."
   ]
  },
  {
   "cell_type": "code",
   "execution_count": null,
   "metadata": {},
   "outputs": [],
   "source": [
    "fig, ax = plt.subplots(2,2, figsize=(7,5), sharex=True)\n",
    "ax = ax.flatten()\n",
    "\n",
    "FES = thermo.FES(40)\n",
    "FES.gen_enthalpy_global(DHloc=1.31, DHnonloc=5.5)\n",
    "FES.gen_free(temp=298)\n",
    "ax[0].plot(FES.nat, FES.DHo)\n",
    "ax[0].plot(FES.nat, FES.DHo_loc, lw=1)\n",
    "ax[0].plot(FES.nat, FES.DHo_nonloc, lw=1)\n",
    "ax[1].plot(FES.nat, FES.DG, 'k', label='Barrier\\nlimited')\n",
    "ax[1].set_ylim(-5,35)\n",
    "ax[0].set_ylim(0,300)\n",
    "ax[0].set_ylabel('$\\Delta H(n)$ (kJ/mol)', fontsize=14)\n",
    "ax[1].set_ylabel('$\\Delta G(n)$ (kJ/mol)', fontsize=14)\n",
    "\n",
    "FES = thermo.FES(40)\n",
    "FES.gen_enthalpy_global(DHloc=3.1, DHnonloc=4.52)\n",
    "FES.gen_free(temp=298)\n",
    "ax[2].plot(FES.nat, FES.DHo)\n",
    "ax[2].plot(FES.nat, FES.DHo_loc, lw=1)\n",
    "ax[2].plot(FES.nat, FES.DHo_nonloc, lw=1)\n",
    "ax[3].plot(FES.nat, FES.DG, 'k', label='Downhill')\n",
    "ax[3].set_ylim(-5,40)\n",
    "ax[2].set_ylim(0,300)\n",
    "ax[1].set_yticks(range(0,40,10))\n",
    "ax[3].set_yticks(range(0,40,10))\n",
    "ax[2].set_ylabel('$\\Delta H(n)$ (kJ/mol)', fontsize=14)\n",
    "ax[3].set_ylabel('$\\Delta G(n)$ (kJ/mol)', fontsize=14)\n",
    "ax[2].set_xlabel('$n$', fontsize=14)\n",
    "ax[3].set_xlabel('$n$', fontsize=14)\n",
    "\n",
    "ax[1].legend(loc=1, prop={'size': 12})\n",
    "ax[3].legend(loc=1, prop={'size': 12})\n",
    "\n",
    "ax[0].annotate(\"A\", xy=(-0.3, 0.95), fontsize=24, xycoords=ax[0].get_window_extent)\n",
    "ax[2].annotate(\"B\", xy=(-0.3, 0.95), fontsize=24, xycoords=ax[2].get_window_extent)\n",
    "\n",
    "plt.tight_layout(h_pad=2, w_pad=0)\n",
    "fig.savefig(\"regimes.png\", dpi=300)"
   ]
  }
 ],
 "metadata": {
  "anaconda-cloud": {},
  "kernelspec": {
   "display_name": "Python 3",
   "language": "python",
   "name": "python3"
  },
  "language_info": {
   "codemirror_mode": {
    "name": "ipython",
    "version": 3
   },
   "file_extension": ".py",
   "mimetype": "text/x-python",
   "name": "python",
   "nbconvert_exporter": "python",
   "pygments_lexer": "ipython3",
   "version": "3.7.3"
  }
 },
 "nbformat": 4,
 "nbformat_minor": 1
}
